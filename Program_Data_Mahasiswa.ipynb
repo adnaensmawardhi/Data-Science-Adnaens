{
  "nbformat": 4,
  "nbformat_minor": 0,
  "metadata": {
    "colab": {
      "provenance": [],
      "authorship_tag": "ABX9TyP5E1i3gaVJqxFSVWberQnB",
      "include_colab_link": true
    },
    "kernelspec": {
      "name": "python3",
      "display_name": "Python 3"
    },
    "language_info": {
      "name": "python"
    }
  },
  "cells": [
    {
      "cell_type": "markdown",
      "metadata": {
        "id": "view-in-github",
        "colab_type": "text"
      },
      "source": [
        "<a href=\"https://colab.research.google.com/github/adnaensmawardhi/Data-Science-Adnaens/blob/main/Program_Data_Mahasiswa.ipynb\" target=\"_parent\"><img src=\"https://colab.research.google.com/assets/colab-badge.svg\" alt=\"Open In Colab\"/></a>"
      ]
    },
    {
      "cell_type": "code",
      "execution_count": null,
      "metadata": {
        "colab": {
          "base_uri": "https://localhost:8080/"
        },
        "id": "9iCuMnd9bUO9",
        "outputId": "cd99af32-00d9-480c-ec6c-c5f47f42995d"
      },
      "outputs": [
        {
          "output_type": "stream",
          "name": "stdout",
          "text": [
            "{'nama': 'nama', 'nim': '000000000', 'sks_lulus': 0, 'lahir': datetime.datetime(1111, 1, 11, 0, 0)}\n",
            "{}\n",
            "   Selamat Datang   \n",
            "   Data Mahasiswa   \n",
            "--------------------\n",
            "{'nama': None, 'nim': None, 'sks_lulus': None, 'lahir': None}\n"
          ]
        }
      ],
      "source": [
        "\n",
        "#template dictionary mahasiswa\n",
        "import os\n",
        "import datetime\n",
        "import string\n",
        "import random\n",
        "mahasiswa_template ={\n",
        "    'nama':'nama',\n",
        "    'nim':'000000000',\n",
        "    'sks_lulus':0,\n",
        "    'lahir':datetime.datetime(1111,1,11)\n",
        "}\n",
        "data_mahasiswa={}\n",
        "while True:\n",
        "  print(mahasiswa_template)\n",
        "  print(data_mahasiswa)\n",
        "\n",
        "  print(f\"{\"Selamat Datang\":^20}\")\n",
        "  print(f\"{\"Data Mahasiswa\":^20}\")\n",
        "  print(\"-\"*20)\n",
        "\n",
        "  mahasiswa=dict.fromkeys(mahasiswa_template.keys())\n",
        "  print(mahasiswa)\n",
        "\n",
        "  mahasiswa[\"nama\"]= input(\"Nama Mahasiswa: \")\n",
        "  mahasiswa[\"nim\"]= input(\"NIM Mahasiswa: \")\n",
        "  mahasiswa[\"sks_lulus\"]= int(input(\"SKS Lulus: \"))\n",
        "\n",
        "  Tahun_lahir = int(input(\"Tahun Lahir(YYYY): \"))\n",
        "  Bulan_lahir = int(input(\"Bulan Lahir(1-12): \"))\n",
        "  Tanggal_lahir= int(input(\"Tanggal Lahir(1-31): \"))\n",
        "\n",
        "  mahasiswa[\"lahir\"]=datetime.datetime(Tahun_lahir,Bulan_lahir,Tanggal_lahir)\n",
        "  print(mahasiswa)\n",
        "\n",
        "  KEY =\"\".join((random.choice(string.ascii_uppercase) for i in range(6)))\n",
        "  data_mahasiswa.update({KEY: mahasiswa})\n",
        "\n",
        "\n",
        "\n",
        "  print(f\"{'KEY':<6} {'Nama':<17} {'NIM':<11} {'SKS':<3} {'Lahir':<10}\")\n",
        "  print(\"-\" * 60)\n",
        "\n",
        "  for mahasiswa in data_mahasiswa:\n",
        "    KEY=mahasiswa\n",
        "\n",
        "    nama = data_mahasiswa[KEY][\"nama\"]\n",
        "    NIM = data_mahasiswa[KEY][\"nim\"]\n",
        "    sks_lulus = data_mahasiswa[KEY][\"sks_lulus\"]\n",
        "    Lahir = data_mahasiswa[KEY][\"lahir\"].strftime(\"%x\")\n",
        "    print(f\"{KEY:<6} {nama:<17} {NIM:<11} {sks_lulus:<3}  {Lahir:<10}\")\n",
        "  print(\"\\n\")\n",
        "  is_done = input(\"mau tambah lagi bro?(y/n)\")\n",
        "  if is_done == \"n\":\n",
        "    break\n",
        "print(\"program selesai\")\n",
        "\n"
      ]
    }
  ]
}