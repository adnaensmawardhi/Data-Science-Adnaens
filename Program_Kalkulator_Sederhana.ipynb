{
  "nbformat": 4,
  "nbformat_minor": 0,
  "metadata": {
    "colab": {
      "provenance": [],
      "authorship_tag": "ABX9TyMsCTnJjEOUVKDBWw+BBNRf",
      "include_colab_link": true
    },
    "kernelspec": {
      "name": "python3",
      "display_name": "Python 3"
    },
    "language_info": {
      "name": "python"
    }
  },
  "cells": [
    {
      "cell_type": "markdown",
      "metadata": {
        "id": "view-in-github",
        "colab_type": "text"
      },
      "source": [
        "<a href=\"https://colab.research.google.com/github/adnaensmawardhi/Data-Science-Adnaens/blob/main/Program_Kalkulator_Sederhana.ipynb\" target=\"_parent\"><img src=\"https://colab.research.google.com/assets/colab-badge.svg\" alt=\"Open In Colab\"/></a>"
      ]
    },
    {
      "cell_type": "code",
      "execution_count": null,
      "metadata": {
        "id": "fmCKrGD2Jd3z"
      },
      "outputs": [],
      "source": [
        "#kalkulator sederhana\n",
        "print(20*\"=\")\n",
        "print(\"kalkulator sederhana\")\n",
        "print(20*\"=\"+'\\n')\n",
        "\n",
        "angka_1 = float(input(\"masukan angka 1:\"))\n",
        "operator = input(\"opertaor(+,-,x,/):\")\n",
        "angka_2 = float(input(\"masukan angka 2:\"))\n",
        "\n",
        "#percabanganya\n",
        "if operator == \"+\":\n",
        "  hasil = angka_1 + angka_2\n",
        "  print(f\"hasilnya adalah {hasil}\")\n",
        "elif operator == \"-\":\n",
        "  hasil = angka_1 - angka_2\n",
        "  print(f\"hasilnya adalah {hasil}\")\n",
        "elif operator == \"x\":\n",
        "  hasil = angka_1 * angka_2\n",
        "  print(f\"hasilnya adalah {hasil}\")\n",
        "elif operator == \"/\":\n",
        "  hasil = angka_1 / angka_2\n",
        "  print(f\"hasilnya adalah {hasil}\")\n",
        "print(\"akhir program, terima gajih\")"
      ]
    }
  ]
}