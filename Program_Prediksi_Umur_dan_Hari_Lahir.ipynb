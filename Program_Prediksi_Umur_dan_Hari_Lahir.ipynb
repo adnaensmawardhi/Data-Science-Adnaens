{
  "nbformat": 4,
  "nbformat_minor": 0,
  "metadata": {
    "colab": {
      "provenance": [],
      "authorship_tag": "ABX9TyMgj3K0YOcQNsHI0SKezVzd",
      "include_colab_link": true
    },
    "kernelspec": {
      "name": "python3",
      "display_name": "Python 3"
    },
    "language_info": {
      "name": "python"
    }
  },
  "cells": [
    {
      "cell_type": "markdown",
      "metadata": {
        "id": "view-in-github",
        "colab_type": "text"
      },
      "source": [
        "<a href=\"https://colab.research.google.com/github/adnaensmawardhi/Data-Science-Adnaens/blob/main/Program_Prediksi_Umur_dan_Hari_Lahir.ipynb\" target=\"_parent\"><img src=\"https://colab.research.google.com/assets/colab-badge.svg\" alt=\"Open In Colab\"/></a>"
      ]
    },
    {
      "cell_type": "code",
      "execution_count": null,
      "metadata": {
        "id": "Ee2rfS9txFQg"
      },
      "outputs": [],
      "source": [
        "import datetime\n",
        "\n",
        "print(\"silahkan masukan tanggal\\nbulan dan tahun lahir anda\")\n",
        "tanggal = input(\"tanggal\\t:\")\n",
        "bulan = input(\"bulan\\t:\")\n",
        "tahun = input(\"tahun\\t:\")\n",
        "\n",
        "tanggal_lahir = dt.date(int(tahun),int(bulan),int(tanggal))\n",
        "print(f\"tanggal lahir anda adalah hari {tanggal_lahir:%A}\")\n",
        "\n",
        "hari_ini = dt.date.today()\n",
        "print(f\"hari ini adalah:{hari_ini}\")\n",
        "umur_hari = hari_ini - tanggal_lahir\n",
        "umur_tahun = umur_hari.days // 365\n",
        "umur_bulan_sisa = (umur_hari.days % 365) // 30\n",
        "print(f\"hari nya adalah:{tanggal_lahir:%A}\")\n",
        "\n",
        "print(f\"umur anda adalah: {umur_tahun} tahun, {umur_bulan_sisa} bulan\")"
      ]
    }
  ]
}