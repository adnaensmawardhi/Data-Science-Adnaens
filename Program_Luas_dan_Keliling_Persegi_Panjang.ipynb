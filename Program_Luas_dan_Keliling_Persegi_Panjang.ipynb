{
  "nbformat": 4,
  "nbformat_minor": 0,
  "metadata": {
    "colab": {
      "provenance": [],
      "authorship_tag": "ABX9TyMKxVzsDa+NXD/aGRrWUvC3",
      "include_colab_link": true
    },
    "kernelspec": {
      "name": "python3",
      "display_name": "Python 3"
    },
    "language_info": {
      "name": "python"
    }
  },
  "cells": [
    {
      "cell_type": "markdown",
      "metadata": {
        "id": "view-in-github",
        "colab_type": "text"
      },
      "source": [
        "<a href=\"https://colab.research.google.com/github/adnaensmawardhi/Data-Science-Adnaens/blob/main/Program_Luas_dan_Keliling_Persegi_Panjang.ipynb\" target=\"_parent\"><img src=\"https://colab.research.google.com/assets/colab-badge.svg\" alt=\"Open In Colab\"/></a>"
      ]
    },
    {
      "cell_type": "code",
      "execution_count": null,
      "metadata": {
        "id": "wvffbHX8TKaF"
      },
      "outputs": [],
      "source": [
        "def header():\n",
        "  '''Fungsi Header'''\n",
        "  os.system(\"clear\")\n",
        "  print(f\"{'PROGRAM MENGHITUNG LUAS':^40}\")\n",
        "  print(f\"{'DAN KELILING PERSEGI PANJANG':^40}\")\n",
        "  print(f\"{\"-\"*40:^40}\")\n",
        "\n",
        "def input_user():\n",
        "  '''fungsi input user'''\n",
        "  Lebar=int(input(\"Masukkan lebar persegi panjang: \"))\n",
        "  Panjang=int(input(\"Masukkan panjang persegi panjang: \"))\n",
        "  return Lebar,Panjang\n",
        "def hitung_luas(Lebar, Panjang):\n",
        "  '''fungsi menghitung luas'''\n",
        "  return Lebar*Panjang\n",
        "def hitung_keliling(Lebar,Panjang):\n",
        "  '''fungsi menghitung keliling'''\n",
        "  return 2*(Panjang+Lebar)\n",
        "def display(message, value):\n",
        "  print(f\"hasil perhitungan {message}:{value}\")\n",
        "def menu_pilihan():\n",
        "    print(\"\\nPilih perhitungan yang ingin dilakukan:\")\n",
        "    print(\"1. Hitung Luas\")\n",
        "    print(\"2. Hitung Keliling\")\n",
        "    print(\"3. Hitung Keduanya\")\n",
        "    pilihan = input(\"Masukkan pilihan (1/2/3): \")\n",
        "    return pilihan\n",
        "while True:\n",
        "  header()\n",
        "\n",
        "  pilihan = menu_pilihan()\n",
        "\n",
        "  if pilihan in [\"1\", \"2\", \"3\"]:\n",
        "      Lebar, Panjang = input_user()\n",
        "\n",
        "      if pilihan == \"1\":\n",
        "        Luas = hitung_luas(Lebar, Panjang)\n",
        "        display(\"LUAS\", Luas)\n",
        "\n",
        "      elif pilihan == \"2\":\n",
        "        Keliling = hitung_keliling(Lebar, Panjang)\n",
        "        display(\"KELILING\", Keliling)\n",
        "\n",
        "      elif pilihan == \"3\":\n",
        "        Luas = hitung_luas(Lebar, Panjang)\n",
        "        Keliling = hitung_keliling(Lebar, Panjang)\n",
        "        display(\"LUAS\", Luas)\n",
        "        display(\"KELILING\", Keliling)\n",
        "\n",
        "  else:\n",
        "      print(\"Pilihan tidak valid!\")\n",
        "\n",
        "  isContinue = input(\"apakah lanjut (y/n)? \")\n",
        "  if isContinue == \"n\":\n",
        "    break\n",
        "print(\"Program Selesai\")"
      ]
    }
  ]
}