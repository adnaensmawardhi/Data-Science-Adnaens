{
  "nbformat": 4,
  "nbformat_minor": 0,
  "metadata": {
    "colab": {
      "provenance": [],
      "authorship_tag": "ABX9TyOn03AGcZSEEix3/Rbg3lXF",
      "include_colab_link": true
    },
    "kernelspec": {
      "name": "python3",
      "display_name": "Python 3"
    },
    "language_info": {
      "name": "python"
    }
  },
  "cells": [
    {
      "cell_type": "markdown",
      "metadata": {
        "id": "view-in-github",
        "colab_type": "text"
      },
      "source": [
        "<a href=\"https://colab.research.google.com/github/adnaensmawardhi/Data-Science-Adnaens/blob/main/Program_Konversi_Suhu.ipynb\" target=\"_parent\"><img src=\"https://colab.research.google.com/assets/colab-badge.svg\" alt=\"Open In Colab\"/></a>"
      ]
    },
    {
      "cell_type": "code",
      "execution_count": null,
      "metadata": {
        "colab": {
          "base_uri": "https://localhost:8080/"
        },
        "id": "JcqAoKNHT6lQ",
        "outputId": "34503032-e33c-4658-ef25-0d167b1798fc"
      },
      "outputs": [
        {
          "output_type": "stream",
          "name": "stdout",
          "text": [
            "         PROGRAM KONVERSI SUHU          \n",
            "     ------------------------------     \n",
            "\n",
            "PILIH KONVERSI SUHU : \n",
            "1. Celcius ke Reamur, Fahrenhiet, dan Kelvin\n",
            "2. Reamur ke Celcius, Fahrenhiet, dan Kelvin\n",
            "3. Fahrenhiet ke Celcius, Reamur, dan Kelvin\n",
            "4. Kelvin ke Celcius, Reamur, dan Fahrenhiet\n",
            "Masukan Pilihan (1/2/3/4) : 1\n",
            "Masukan Suhu Celcius : 20\n",
            "Reamur :  16.0\n",
            "Fahrenhiet:  68.0\n",
            "Kelvin:  293.0\n",
            "Mau Lanjut Konversi Suhu Lagi?(y/n): y\n",
            "         PROGRAM KONVERSI SUHU          \n",
            "     ------------------------------     \n",
            "\n",
            "PILIH KONVERSI SUHU : \n",
            "1. Celcius ke Reamur, Fahrenhiet, dan Kelvin\n",
            "2. Reamur ke Celcius, Fahrenhiet, dan Kelvin\n",
            "3. Fahrenhiet ke Celcius, Reamur, dan Kelvin\n",
            "4. Kelvin ke Celcius, Reamur, dan Fahrenhiet\n",
            "Masukan Pilihan (1/2/3/4) : 2\n",
            "Masukan Suhu Reamur : 20\n",
            "Celcius :  25.0\n",
            "Fahrenhiet:  77.0\n",
            "Kelvin:  298.0\n"
          ]
        }
      ],
      "source": [
        "import os\n",
        "def header():\n",
        "  '''Fungsi Header'''\n",
        "  os.system(\"cls\")\n",
        "  print(f\"{'PROGRAM KONVERSI SUHU':^40}\")\n",
        "  print(f\"{\"-\"*30:^40}\")\n",
        "\n",
        "def menu_pilihan():\n",
        "  '''Fungsi Menu Pilihan'''\n",
        "  print(\"\\nPILIH KONVERSI SUHU : \")\n",
        "  print(\"1. Celcius ke Reamur, Fahrenhiet, dan Kelvin\")\n",
        "  print(\"2. Reamur ke Celcius, Fahrenhiet, dan Kelvin\")\n",
        "  print(\"3. Fahrenhiet ke Celcius, Reamur, dan Kelvin\")\n",
        "  print(\"4. Kelvin ke Celcius, Reamur, dan Fahrenhiet\")\n",
        "\n",
        "  Pilihan = input(\"Masukan Pilihan (1/2/3/4) : \")\n",
        "  return Pilihan\n",
        "def Konversi_Celcius():\n",
        "  print(\"Reamur : \", (4/5)*C)\n",
        "  print(\"Fahrenhiet: \", (9/5)*C+32)\n",
        "  print(\"Kelvin: \", C+273)\n",
        "def Konversi_Reamur():\n",
        "  print(\"Celcius : \", (5/4)*R)\n",
        "  print(\"Fahrenhiet: \", (9/4)*R+32)\n",
        "  print(\"Kelvin: \", (5/4)*R+273)\n",
        "def Konversi_Fahrenheit():\n",
        "  print(\"Celcius : \", (5/9)*(F-32))\n",
        "  print(\"Reamur: \", (4/9)*(F-32))\n",
        "  print(\"Kelvin: \", (5/9)*(F-32) +273)\n",
        "def Konversi_Kelvin():\n",
        "  print(\"Celcius : \", K-273)\n",
        "  print(\"Reamur: \", (4/5)*(K-273))\n",
        "  print(\"Fahrenhiet: \", (9/5)*(K-273)+32)\n",
        "\n",
        "#Main Program\n",
        "\n",
        "while True:\n",
        "  header()\n",
        "  pilihan = menu_pilihan()\n",
        "\n",
        "  if pilihan == \"1\":\n",
        "        C=float(input(\"Masukan Suhu Celcius : \"))\n",
        "        Konversi_Celcius()\n",
        "  elif pilihan == \"2\":\n",
        "        R=float(input(\"Masukan Suhu Reamur : \"))\n",
        "        Konversi_Reamur()\n",
        "  elif pilihan == \"3\":\n",
        "        F=float(input(\"Masukan Suhu Fahrenheit : \"))\n",
        "        Konversi_Fahrenheit()\n",
        "  elif pilihan == \"4\":\n",
        "        K=float(input(\"Masukan Suhu Kelvin : \"))\n",
        "        Konversi_Kelvin()\n",
        "  else :\n",
        "        print(\"Pilihan Tidak Valid\")\n",
        "\n",
        "  lanjut = input(\"Mau Lanjut Konversi Suhu Lagi?(y/n): \")\n",
        "  if lanjut ==\"n\":\n",
        "      break\n",
        "print(\"PROGRMA KONVERSI SUHU SELESAI\")\n",
        "\n",
        "\n",
        "\n"
      ]
    }
  ]
}