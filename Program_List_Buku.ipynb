{
  "nbformat": 4,
  "nbformat_minor": 0,
  "metadata": {
    "colab": {
      "provenance": [],
      "authorship_tag": "ABX9TyMWhoLjPYLMQlaGoiIPKC9x",
      "include_colab_link": true
    },
    "kernelspec": {
      "name": "python3",
      "display_name": "Python 3"
    },
    "language_info": {
      "name": "python"
    }
  },
  "cells": [
    {
      "cell_type": "markdown",
      "metadata": {
        "id": "view-in-github",
        "colab_type": "text"
      },
      "source": [
        "<a href=\"https://colab.research.google.com/github/adnaensmawardhi/Data-Science-Adnaens/blob/main/Program_List_Buku.ipynb\" target=\"_parent\"><img src=\"https://colab.research.google.com/assets/colab-badge.svg\" alt=\"Open In Colab\"/></a>"
      ]
    },
    {
      "cell_type": "code",
      "execution_count": null,
      "metadata": {
        "id": "dDI95f0XOH9x"
      },
      "outputs": [],
      "source": [
        "#Program list buku\n",
        "list_buku=[]\n",
        "while True:\n",
        "  print(\"Masukan data buku\")\n",
        "  judul =input(\"judul buku\\t:\")\n",
        "  penulis=input(\"penulis buku\\t:\")\n",
        "\n",
        "  buku_baru =[judul,penulis]\n",
        "  list_buku.append(buku_baru)\n",
        "  print(buku_baru)\n",
        "\n",
        "  print(\"\\n\\n\", \"=\"*10,\"Data Buku\",\"=\"*10)\n",
        "  print(\"No.|Judul|penulis\")\n",
        "  for index,buku in enumerate(list_buku):\n",
        "    print(f\"{index+1} | {buku[0]} | {buku[1]}\")\n",
        "  print(\"\\n\\n\", \"=\"*20)\n",
        "  islanjut=input(\"apakah dilanjutkan?(y/n)\")\n",
        "  if islanjut ==\"n\":\n",
        "    break\n",
        "\n",
        "print(\"program selesai\")"
      ]
    }
  ]
}